{
  "metadata": {
    "kernelspec": {
      "name": "python",
      "display_name": "Python (Pyodide)",
      "language": "python"
    },
    "language_info": {
      "codemirror_mode": {
        "name": "python",
        "version": 3
      },
      "file_extension": ".py",
      "mimetype": "text/x-python",
      "name": "python",
      "nbconvert_exporter": "python",
      "pygments_lexer": "ipython3",
      "version": "3.8"
    }
  },
  "nbformat_minor": 5,
  "nbformat": 4,
  "cells": [
    {
      "id": "f1499fdd-4056-4220-9d84-8d8912308cca",
      "cell_type": "markdown",
      "source": "# Data Science Tool and Ecosystem",
      "metadata": {}
    },
    {
      "id": "d4000e22-6be0-4c37-842e-b1548d66a10d",
      "cell_type": "markdown",
      "source": "In this notebook, Data Science Tools and Ecosystem are summarized.",
      "metadata": {}
    },
    {
      "id": "6d98b10c-5b7c-420e-ba01-90240c08510b",
      "cell_type": "markdown",
      "source": "**Objectives:**\n- Recap some of the most popular languages used in Data Science\n- Recap some of the most commonly used libraries in Data Science\n- Recap some open-source environment development Data Science tools\n- Recap how to do basic calculations using code cells in Jupyter notebooks\n- Recap how to create tables, and also headers in different styles (check in the markdown cells to see how those were created)",
      "metadata": {}
    },
    {
      "id": "bb851b72-a9b7-4d11-853f-2ab69cf0fff1",
      "cell_type": "markdown",
      "source": "Some of the popular languages that Data Scientists use are:\n1. Python\n2. Rstudio\n3. SQL",
      "metadata": {}
    },
    {
      "id": "5d6a86e3-e8c6-4a22-86ca-d118a426e037",
      "cell_type": "markdown",
      "source": "Some of the commonly used libraries used by Data Scientists include:\n1. matplotlib - Python\n2. scikit-learn - Python\n3. pandas - Python\n4. ggplot2 - R\n",
      "metadata": {}
    },
    {
      "id": "6f2221c5-1f8a-4f9a-b2d0-b13a36e163be",
      "cell_type": "markdown",
      "source": "|Data Science Tools|\n|------------------|\n|Visual Studio Code|\n|Rstudio           |\n|Jupyter Notebook  |",
      "metadata": {}
    },
    {
      "id": "d8eb3272-f6a7-4687-8736-ba60bd4f57ef",
      "cell_type": "markdown",
      "source": "### Below are a few examples of evaluating arithmetic expressions in Python:",
      "metadata": {}
    },
    {
      "id": "0f4b51af-32a9-48d8-ae7a-26fbc3b46f92",
      "cell_type": "code",
      "source": "#This a simple arithmetic expression to mutiply then add integers\n(3*4)+5",
      "metadata": {
        "trusted": true
      },
      "outputs": [
        {
          "execution_count": 6,
          "output_type": "execute_result",
          "data": {
            "text/plain": "17"
          },
          "metadata": {}
        }
      ],
      "execution_count": 6
    },
    {
      "id": "e6903c9d-69c0-416e-acc1-67eb1a0d85ca",
      "cell_type": "code",
      "source": "#This will convert 200 minutes to hours by diving by 60\n200/60",
      "metadata": {
        "trusted": true
      },
      "outputs": [
        {
          "execution_count": 7,
          "output_type": "execute_result",
          "data": {
            "text/plain": "3.3333333333333335"
          },
          "metadata": {}
        }
      ],
      "execution_count": 7
    },
    {
      "id": "ec236882-6ca1-44d6-921c-f7ee540f0890",
      "cell_type": "markdown",
      "source": "## Author:\nDaniel Cabral",
      "metadata": {}
    }
  ]
}