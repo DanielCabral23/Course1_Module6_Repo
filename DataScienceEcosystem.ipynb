{
  "cells": [
    {
      "cell_type": "markdown",
      "id": "cad188f7",
      "metadata": {},
      "source": [
        "<center>\n",
        "    <img src=\"https://cf-courses-data.s3.us.cloud-object-storage.appdomain.cloud/IBMDeveloperSkillsNetwork-DS0105EN-SkillsNetwork/labs/Module2/images/SN_web_lightmode.png\" width=\"300\" alt=\"cognitiveclass.ai logo\">\n",
        "</center>"
      ]
    },
    {
      "cell_type": "markdown",
      "id": "1aa996fd",
      "metadata": {},
      "source": [
        "# Hands-on Lab: Create your Jupyter Notebook\n"
      ]
    },
    {
      "cell_type": "markdown",
      "id": "beee4667",
      "metadata": {},
      "source": [
        "#### Add your code below following the instructions given in the course\n"
      ]
    },
    {
      "cell_type": "markdown",
      "id": "f1499fdd-4056-4220-9d84-8d8912308cca",
      "metadata": {},
      "source": [
        "# Data Science Tool and Ecosystem"
      ]
    },
    {
      "cell_type": "markdown",
      "id": "d4000e22-6be0-4c37-842e-b1548d66a10d",
      "metadata": {},
      "source": [
        "In this notebook, Data Science Tools and Ecosystem are summarized."
      ]
    },
    {
      "cell_type": "markdown",
      "id": "6d98b10c-5b7c-420e-ba01-90240c08510b",
      "metadata": {},
      "source": [
        "**Objectives:**\n",
        "- Recap some of the most popular languages used in Data Science\n",
        "- Recap some of the most commonly used libraries in Data Science\n",
        "- Recap some open-source environment development Data Science tools\n",
        "- Recap how to do basic calculations using code cells in Jupyter notebooks\n",
        "- Recap how to create tables, and also headers in different styles (check in the markdown cells to see how those were created)"
      ]
    },
    {
      "cell_type": "markdown",
      "id": "bb851b72-a9b7-4d11-853f-2ab69cf0fff1",
      "metadata": {},
      "source": [
        "Some of the popular languages that Data Scientists use are:\n",
        "1. Python\n",
        "2. Rstudio\n",
        "3. SQL"
      ]
    },
    {
      "cell_type": "markdown",
      "id": "5d6a86e3-e8c6-4a22-86ca-d118a426e037",
      "metadata": {},
      "source": [
        "Some of the commonly used libraries used by Data Scientists include:\n",
        "1. matplotlib - Python\n",
        "2. scikit-learn - Python\n",
        "3. pandas - Python\n",
        "4. ggplot2 - R\n"
      ]
    },
    {
      "cell_type": "markdown",
      "id": "6f2221c5-1f8a-4f9a-b2d0-b13a36e163be",
      "metadata": {},
      "source": [
        "|Data Science Tools|\n",
        "|------------------|\n",
        "|Visual Studio Code|\n",
        "|Rstudio           |\n",
        "|Jupyter Notebook  |"
      ]
    },
    {
      "cell_type": "markdown",
      "id": "d8eb3272-f6a7-4687-8736-ba60bd4f57ef",
      "metadata": {},
      "source": [
        "### Below are a few examples of evaluating arithmetic expressions in Python:"
      ]
    },
    {
      "cell_type": "code",
      "execution_count": 6,
      "id": "0f4b51af-32a9-48d8-ae7a-26fbc3b46f92",
      "metadata": {
        "trusted": true
      },
      "outputs": [
        {
          "data": {
            "text/plain": [
              "17"
            ]
          },
          "execution_count": 6,
          "metadata": {},
          "output_type": "execute_result"
        }
      ],
      "source": [
        "#This a simple arithmetic expression to mutiply then add integers\n",
        "(3*4)+5"
      ]
    },
    {
      "cell_type": "code",
      "execution_count": 7,
      "id": "e6903c9d-69c0-416e-acc1-67eb1a0d85ca",
      "metadata": {
        "trusted": true
      },
      "outputs": [
        {
          "data": {
            "text/plain": [
              "3.3333333333333335"
            ]
          },
          "execution_count": 7,
          "metadata": {},
          "output_type": "execute_result"
        }
      ],
      "source": [
        "#This will convert 200 minutes to hours by diving by 60\n",
        "200/60"
      ]
    },
    {
      "cell_type": "markdown",
      "id": "ec236882-6ca1-44d6-921c-f7ee540f0890",
      "metadata": {},
      "source": [
        "## Author:\n",
        "Daniel Cabral"
      ]
    }
  ],
  "metadata": {
    "kernelspec": {
      "display_name": "Python 3",
      "language": "python",
      "name": "python3"
    },
    "language_info": {
      "codemirror_mode": {
        "name": "ipython",
        "version": 3
      },
      "file_extension": ".py",
      "mimetype": "text/x-python",
      "name": "python",
      "nbconvert_exporter": "python",
      "pygments_lexer": "ipython3",
      "version": "3.11.5"
    }
  },
  "nbformat": 4,
  "nbformat_minor": 5
}
